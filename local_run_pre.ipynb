{
  "nbformat": 4,
  "nbformat_minor": 0,
  "metadata": {
    "colab": {
      "provenance": [],
      "gpuType": "T4"
    },
    "kernelspec": {
      "name": "python3",
      "display_name": "Python 3"
    },
    "language_info": {
      "name": "python"
    },
    "accelerator": "GPU"
  },
  "cells": [
    {
      "cell_type": "code",
      "execution_count": null,
      "metadata": {
        "id": "h89kdIrcGrMK"
      },
      "outputs": [],
      "source": []
    },
    {
      "cell_type": "code",
      "source": [
        "from google.colab import drive\n",
        "drive.mount('/content/drive')"
      ],
      "metadata": {
        "colab": {
          "base_uri": "https://localhost:8080/"
        },
        "id": "NH1yjtmkGvsU",
        "outputId": "c0864089-c286-4256-b277-bd10e9fa114b"
      },
      "execution_count": 2,
      "outputs": [
        {
          "output_type": "stream",
          "name": "stdout",
          "text": [
            "Mounted at /content/drive\n"
          ]
        }
      ]
    },
    {
      "cell_type": "code",
      "source": [
        "from tensorflow.keras.layers import Dense, LSTM, Bidirectional, Embedding, Concatenate, Dropout\n",
        "from tensorflow.keras import Input, Model\n",
        "import numpy as np\n",
        "from tensorflow.keras.preprocessing.sequence import pad_sequences\n",
        "import pandas as pd\n",
        "import re"
      ],
      "metadata": {
        "id": "nCBMS2DaHt8O"
      },
      "execution_count": 40,
      "outputs": []
    },
    {
      "cell_type": "code",
      "source": [
        "\n",
        "import tensorflow as tf\n",
        "from tensorflow.python.keras import backend as K\n",
        "\n",
        "logger = tf.get_logger()\n",
        "\n",
        "class AttentionLayer(tf.keras.layers.Layer):\n",
        "    \"\"\"\n",
        "    This class implements Bahdanau attention (https://arxiv.org/pdf/1409.0473.pdf).\n",
        "    There are three sets of weights introduced W_a, U_a, and V_a\n",
        "     \"\"\"\n",
        "\n",
        "    def __init__(self, **kwargs):\n",
        "        super(AttentionLayer, self).__init__(**kwargs)\n",
        "\n",
        "    def build(self, input_shape):\n",
        "        assert isinstance(input_shape, list)\n",
        "        # Create a trainable weight variable for this layer.\n",
        "\n",
        "        self.W_a = self.add_weight(name='W_a',\n",
        "                                   shape=tf.TensorShape((input_shape[0][2], input_shape[0][2])),\n",
        "                                   initializer='uniform',\n",
        "                                   trainable=True)\n",
        "        self.U_a = self.add_weight(name='U_a',\n",
        "                                   shape=tf.TensorShape((input_shape[1][2], input_shape[0][2])),\n",
        "                                   initializer='uniform',\n",
        "                                   trainable=True)\n",
        "        self.V_a = self.add_weight(name='V_a',\n",
        "                                   shape=tf.TensorShape((input_shape[0][2], 1)),\n",
        "                                   initializer='uniform',\n",
        "                                   trainable=True)\n",
        "\n",
        "        super(AttentionLayer, self).build(input_shape)  # Be sure to call this at the end\n",
        "\n",
        "    def call(self, inputs):\n",
        "        \"\"\"\n",
        "        inputs: [encoder_output_sequence, decoder_output_sequence]\n",
        "        \"\"\"\n",
        "        assert type(inputs) == list\n",
        "        encoder_out_seq, decoder_out_seq = inputs\n",
        "\n",
        "        logger.debug(f\"encoder_out_seq.shape = {encoder_out_seq.shape}\")\n",
        "        logger.debug(f\"decoder_out_seq.shape = {decoder_out_seq.shape}\")\n",
        "\n",
        "        def energy_step(inputs, states):\n",
        "            \"\"\" Step function for computing energy for a single decoder state\n",
        "            inputs: (batchsize * 1 * de_in_dim)\n",
        "            states: (batchsize * 1 * de_latent_dim)\n",
        "            \"\"\"\n",
        "\n",
        "            logger.debug(\"Running energy computation step\")\n",
        "\n",
        "            if not isinstance(states, (list, tuple)):\n",
        "                raise TypeError(f\"States must be an iterable. Got {states} of type {type(states)}\")\n",
        "\n",
        "            encoder_full_seq = states[-1]\n",
        "\n",
        "            \"\"\" Computing S.Wa where S=[s0, s1, ..., si]\"\"\"\n",
        "            # <= batch size * en_seq_len * latent_dim\n",
        "            W_a_dot_s = K.dot(encoder_full_seq, self.W_a)\n",
        "\n",
        "            \"\"\" Computing hj.Ua \"\"\"\n",
        "            U_a_dot_h = K.expand_dims(K.dot(inputs, self.U_a), 1)  # <= batch_size, 1, latent_dim\n",
        "\n",
        "            logger.debug(f\"U_a_dot_h.shape = {U_a_dot_h.shape}\")\n",
        "\n",
        "            \"\"\" tanh(S.Wa + hj.Ua) \"\"\"\n",
        "            # <= batch_size*en_seq_len, latent_dim\n",
        "            Ws_plus_Uh = K.tanh(W_a_dot_s + U_a_dot_h)\n",
        "\n",
        "            logger.debug(f\"Ws_plus_Uh.shape = {Ws_plus_Uh.shape}\")\n",
        "\n",
        "            \"\"\" softmax(va.tanh(S.Wa + hj.Ua)) \"\"\"\n",
        "            # <= batch_size, en_seq_len\n",
        "            e_i = K.squeeze(K.dot(Ws_plus_Uh, self.V_a), axis=-1)\n",
        "            # <= batch_size, en_seq_len\n",
        "            e_i = K.softmax(e_i)\n",
        "\n",
        "            logger.debug(f\"ei.shape = {e_i.shape}\")\n",
        "\n",
        "            return e_i, [e_i]\n",
        "\n",
        "        def context_step(inputs, states):\n",
        "            \"\"\" Step function for computing ci using ei \"\"\"\n",
        "\n",
        "            logger.debug(\"Running attention vector computation step\")\n",
        "\n",
        "            if not isinstance(states, (list, tuple)):\n",
        "                raise TypeError(f\"States must be an iterable. Got {states} of type {type(states)}\")\n",
        "\n",
        "            encoder_full_seq = states[-1]\n",
        "\n",
        "            # <= batch_size, hidden_size\n",
        "            c_i = K.sum(encoder_full_seq * K.expand_dims(inputs, -1), axis=1)\n",
        "\n",
        "            logger.debug(f\"ci.shape = {c_i.shape}\")\n",
        "\n",
        "            return c_i, [c_i]\n",
        "\n",
        "        # we don't maintain states between steps when computing attention\n",
        "        # attention is stateless, so we're passing a fake state for RNN step function\n",
        "        fake_state_c = K.sum(encoder_out_seq, axis=1)\n",
        "        fake_state_e = K.sum(encoder_out_seq, axis=2)  # <= (batch_size, enc_seq_len, latent_dim\n",
        "\n",
        "        \"\"\" Computing energy outputs \"\"\"\n",
        "        # e_outputs => (batch_size, de_seq_len, en_seq_len)\n",
        "        last_out, e_outputs, _ = K.rnn(\n",
        "            energy_step, decoder_out_seq, [fake_state_e], constants=[encoder_out_seq]\n",
        "        )\n",
        "\n",
        "        \"\"\" Computing context vectors \"\"\"\n",
        "        last_out, c_outputs, _ = K.rnn(\n",
        "            context_step, e_outputs, [fake_state_c], constants=[encoder_out_seq]\n",
        "        )\n",
        "\n",
        "        return c_outputs, e_outputs\n",
        "\n",
        "    def compute_output_shape(self, input_shape):\n",
        "        \"\"\" Outputs produced by the layer \"\"\"\n",
        "        return [\n",
        "            tf.TensorShape((input_shape[1][0], input_shape[1][1], input_shape[1][2])),\n",
        "            tf.TensorShape((input_shape[1][0], input_shape[1][1], input_shape[0][1]))\n",
        "        ]"
      ],
      "metadata": {
        "id": "Om0ci47BIaoL"
      },
      "execution_count": 4,
      "outputs": []
    },
    {
      "cell_type": "code",
      "source": [
        "\n",
        "max_eng_len = 34\n",
        "max_mar_len = 37\n",
        "ENG_VOCAB_SIZE = 5836\n",
        "MAR_VOCAB_SIZE = 14386"
      ],
      "metadata": {
        "id": "v08LUwM8OcF5"
      },
      "execution_count": 5,
      "outputs": []
    },
    {
      "cell_type": "code",
      "source": [
        "# Encoder\n",
        "\n",
        "encoder_inputs = Input(shape=(max_eng_len,))\n",
        "enc_emb = Embedding(ENG_VOCAB_SIZE, 1024)(encoder_inputs)\n",
        "\n",
        "# Bidirectional lstm layer\n",
        "enc_lstm1 = Bidirectional(LSTM(256,return_sequences=True,return_state=True))\n",
        "encoder_outputs1, forw_state_h, forw_state_c, back_state_h, back_state_c = enc_lstm1(enc_emb)\n",
        "\n",
        "final_enc_h = Concatenate()([forw_state_h,back_state_h])\n",
        "final_enc_c = Concatenate()([forw_state_c,back_state_c])\n",
        "\n",
        "encoder_states =[final_enc_h, final_enc_c]\n",
        "\n",
        "# Set up the decoder.\n",
        "decoder_inputs = Input(shape=(None,))\n",
        "dec_emb_layer = Embedding(MAR_VOCAB_SIZE, 1024)\n",
        "dec_emb = dec_emb_layer(decoder_inputs)\n",
        "#LSTM using encoder_states as initial state\n",
        "decoder_lstm = LSTM(512, return_sequences=True, return_state=True)\n",
        "decoder_outputs, _, _ = decoder_lstm(dec_emb, initial_state=encoder_states)\n",
        "\n",
        "#Attention Layer\n",
        "attention_layer = AttentionLayer(name=\"attension_layer\")\n",
        "attention_result, attention_weights = attention_layer([encoder_outputs1, decoder_outputs])\n",
        "\n",
        "# Concat attention output and decoder LSTM output\n",
        "decoder_concat_input = Concatenate(axis=-1, name='concat_layer')([decoder_outputs, attention_result])\n",
        "\n",
        "#Dense layer\n",
        "decoder_dense = Dense(MAR_VOCAB_SIZE, activation='softmax')\n",
        "decoder_outputs = decoder_dense(decoder_concat_input)\n",
        "\n",
        "\n",
        "# Define the model\n",
        "model = Model([encoder_inputs, decoder_inputs], decoder_outputs)"
      ],
      "metadata": {
        "id": "WWWyO6ZgIQBM"
      },
      "execution_count": 6,
      "outputs": []
    },
    {
      "cell_type": "code",
      "source": [
        "model.summary()"
      ],
      "metadata": {
        "colab": {
          "base_uri": "https://localhost:8080/"
        },
        "id": "RVQIrZP5QJGv",
        "outputId": "f25448e2-bb68-4dcd-ff17-73fff7fb794f"
      },
      "execution_count": 7,
      "outputs": [
        {
          "output_type": "stream",
          "name": "stdout",
          "text": [
            "Model: \"model\"\n",
            "__________________________________________________________________________________________________\n",
            " Layer (type)                Output Shape                 Param #   Connected to                  \n",
            "==================================================================================================\n",
            " input_1 (InputLayer)        [(None, 34)]                 0         []                            \n",
            "                                                                                                  \n",
            " embedding (Embedding)       (None, 34, 1024)             5976064   ['input_1[0][0]']             \n",
            "                                                                                                  \n",
            " input_2 (InputLayer)        [(None, None)]               0         []                            \n",
            "                                                                                                  \n",
            " bidirectional (Bidirection  [(None, 34, 512),            2623488   ['embedding[0][0]']           \n",
            " al)                          (None, 256),                                                        \n",
            "                              (None, 256),                                                        \n",
            "                              (None, 256),                                                        \n",
            "                              (None, 256)]                                                        \n",
            "                                                                                                  \n",
            " embedding_1 (Embedding)     (None, None, 1024)           1473126   ['input_2[0][0]']             \n",
            "                                                          4                                       \n",
            "                                                                                                  \n",
            " concatenate (Concatenate)   (None, 512)                  0         ['bidirectional[0][1]',       \n",
            "                                                                     'bidirectional[0][3]']       \n",
            "                                                                                                  \n",
            " concatenate_1 (Concatenate  (None, 512)                  0         ['bidirectional[0][2]',       \n",
            " )                                                                   'bidirectional[0][4]']       \n",
            "                                                                                                  \n",
            " lstm_1 (LSTM)               [(None, None, 512),          3147776   ['embedding_1[0][0]',         \n",
            "                              (None, 512),                           'concatenate[0][0]',         \n",
            "                              (None, 512)]                           'concatenate_1[0][0]']       \n",
            "                                                                                                  \n",
            " attension_layer (Attention  ((None, None, 512),          524800    ['bidirectional[0][0]',       \n",
            " Layer)                       (None, None, 34))                      'lstm_1[0][0]']              \n",
            "                                                                                                  \n",
            " concat_layer (Concatenate)  (None, None, 1024)           0         ['lstm_1[0][0]',              \n",
            "                                                                     'attension_layer[0][0]']     \n",
            "                                                                                                  \n",
            " dense (Dense)               (None, None, 14386)          1474565   ['concat_layer[0][0]']        \n",
            "                                                          0                                       \n",
            "                                                                                                  \n",
            "==================================================================================================\n",
            "Total params: 41749042 (159.26 MB)\n",
            "Trainable params: 41749042 (159.26 MB)\n",
            "Non-trainable params: 0 (0.00 Byte)\n",
            "__________________________________________________________________________________________________\n"
          ]
        }
      ]
    },
    {
      "cell_type": "code",
      "source": [
        "from keras.utils import plot_model\n",
        "plot_model(model)"
      ],
      "metadata": {
        "colab": {
          "base_uri": "https://localhost:8080/",
          "height": 758
        },
        "id": "nZts2BbeQLLm",
        "outputId": "9c24894d-d421-4879-f3ed-38af020605b7"
      },
      "execution_count": 8,
      "outputs": [
        {
          "output_type": "execute_result",
          "data": {
            "image/png": "[encoded data removed]",
            "text/plain": [
              "<IPython.core.display.Image object>"
            ]
          },
          "metadata": {},
          "execution_count": 8
        }
      ]
    },
    {
      "cell_type": "code",
      "source": [
        "model.load_weights(\"/content/drive/MyDrive/deep_learning_projects/Neural_machine_transaltion/attention/weights/model_main/model_main.h5\")"
      ],
      "metadata": {
        "id": "nrmQKWgRIWAh"
      },
      "execution_count": 9,
      "outputs": []
    },
    {
      "cell_type": "markdown",
      "source": [
        "### Inference Model"
      ],
      "metadata": {
        "id": "z25eZ_YzSeqC"
      }
    },
    {
      "cell_type": "code",
      "source": [
        "encoder_model = Model(encoder_inputs, outputs = [encoder_outputs1, final_enc_h, final_enc_c])\n",
        "\n",
        "decoder_state_h = Input(shape=(512,))\n",
        "decoder_state_c = Input(shape=(512,))\n",
        "decoder_hidden_state_input = Input(shape=(34,512))\n",
        "\n",
        "dec_states = [decoder_state_h, decoder_state_c]\n",
        "\n",
        "dec_emb2 = dec_emb_layer(decoder_inputs)\n",
        "\n",
        "decoder_outputs2, state_h2, state_c2 = decoder_lstm(dec_emb2, initial_state=dec_states)\n",
        "\n",
        "# Attention inference\n",
        "attention_result_inf, attention_weights_inf = attention_layer([decoder_hidden_state_input, decoder_outputs2])\n",
        "\n",
        "decoder_concat_input_inf = Concatenate(axis=-1, name='concat_layer')([decoder_outputs2, attention_result_inf])\n",
        "\n",
        "dec_states2= [state_h2, state_c2]\n",
        "\n",
        "decoder_outputs2 = decoder_dense(decoder_concat_input_inf)\n",
        "\n",
        "decoder_model= Model(\n",
        "                    [decoder_inputs] + [decoder_hidden_state_input, decoder_state_h, decoder_state_c],\n",
        "                     [decoder_outputs2]+ dec_states2)"
      ],
      "metadata": {
        "id": "qF9LjFR7Q3I8"
      },
      "execution_count": 10,
      "outputs": []
    },
    {
      "cell_type": "code",
      "source": [
        "def get_predicted_sentence(input_seq):\n",
        "    # Encode the input as state vectors.\n",
        "    enc_output, enc_h, enc_c = encoder_model.predict(input_seq)\n",
        "\n",
        "    # Generate empty target sequence of length 1.\n",
        "    target_seq = np.zeros((1,1))\n",
        "\n",
        "    # Populate the first character of target sequence with the start character.\n",
        "    target_seq[0, 0] = mar_word_index['sos']\n",
        "\n",
        "    # Sampling loop for a batch of sequences\n",
        "    # (to simplify, here we assume a batch of size 1).\n",
        "    stop_condition = False\n",
        "    decoded_sentence = ''\n",
        "\n",
        "    while not stop_condition:\n",
        "        output_tokens, h, c = decoder_model.predict([target_seq] + [enc_output, enc_h, enc_c ])\n",
        "        # Sample a token\n",
        "        sampled_token_index = np.argmax(output_tokens[0, -1, :])\n",
        "        if sampled_token_index == 0:\n",
        "          break\n",
        "        else:\n",
        "            # convert max index number to marathi word\n",
        "            sampled_char = mar_index_word[sampled_token_index]\n",
        "\n",
        "        if (sampled_char!='end'):\n",
        "            # aapend it ti decoded sent\n",
        "            decoded_sentence += ' '+sampled_char\n",
        "\n",
        "        # Exit condition: either hit max length or find stop token.\n",
        "        if (sampled_char == 'eos' or len(decoded_sentence.split()) >= 36):\n",
        "            stop_condition = True\n",
        "\n",
        "        # Update the target sequence (of length 1).\n",
        "        target_seq = np.zeros((1,1))\n",
        "        target_seq[0, 0] = sampled_token_index\n",
        "        # Update states\n",
        "        enc_h, enc_c = h, c\n",
        "\n",
        "    return decoded_sentence"
      ],
      "metadata": {
        "id": "wyFasZRPSqKW"
      },
      "execution_count": 11,
      "outputs": []
    },
    {
      "cell_type": "code",
      "source": [
        "\n",
        "import pickle\n",
        "\n",
        "mar_index_word=dict()\n",
        "with open('/content/drive/MyDrive/deep_learning_projects/Neural_machine_transaltion/attention/working_dir_data/mar_index_word.pkl', 'rb') as f:\n",
        "  mar_index_word = pickle.load(f)\n",
        "\n",
        "eng_index_word=dict()\n",
        "with open('/content/drive/MyDrive/deep_learning_projects/Neural_machine_transaltion/attention/working_dir_data/eng_index_word.pkl', 'rb') as f:\n",
        "  eng_index_word = pickle.load(f)\n",
        "\n",
        "eng_word_indec = dict()\n",
        "with open(\"/content/drive/MyDrive/deep_learning_projects/Neural_machine_transaltion/attention/working_dir_data/eng_word_indec.pkl\", \"rb\") as f:\n",
        "  eng_word_indec = pickle.load(f)\n",
        "\n",
        "mar_word_index = dict()\n",
        "with open(\"/content/drive/MyDrive/deep_learning_projects/Neural_machine_transaltion/attention/working_dir_data/mar_word_index.pkl\", \"rb\") as f:\n",
        "  mar_word_index = pickle.load(f)"
      ],
      "metadata": {
        "id": "HYQ9FPvv5K7v"
      },
      "execution_count": 12,
      "outputs": []
    },
    {
      "cell_type": "code",
      "source": [
        "with open(\"/content/drive/MyDrive/deep_learning_projects/Neural_machine_transaltion/attention/working_dir_data/contraction_expansion.txt\", 'rb') as fp:\n",
        "    contractions= pickle.load(fp)\n"
      ],
      "metadata": {
        "id": "B3663Amg9oTi"
      },
      "execution_count": 13,
      "outputs": []
    },
    {
      "cell_type": "code",
      "source": [
        "\n",
        "def expand_contras(text):\n",
        "    '''\n",
        "    takes input as word or list of words\n",
        "    if it is string and contracted it will expand it\n",
        "    example:\n",
        "    it's --> it is\n",
        "    won't --> would not\n",
        "    '''\n",
        "    if type(text) is str:\n",
        "        for key in contractions:\n",
        "            value = contractions[key]\n",
        "            text = text.replace(key, value)\n",
        "        return text\n",
        "    else:\n",
        "        return text\n",
        ""
      ],
      "metadata": {
        "id": "PcyjqWiS9039"
      },
      "execution_count": 14,
      "outputs": []
    },
    {
      "cell_type": "code",
      "source": [
        "def get_marathi_sentence(input_sequence):\n",
        "    sentence =''\n",
        "    for i in input_sequence:\n",
        "      if i!=0 :\n",
        "        sentence =sentence +mar_index_word[i]+' '\n",
        "    return sentence\n",
        "\n",
        "def get_english_sentence(input_sequence):\n",
        "    sentence =''\n",
        "    for i in input_sequence:\n",
        "      if i!=0:\n",
        "        sentence =sentence +eng_index_word[i]+' '\n",
        "    return sentence"
      ],
      "metadata": {
        "id": "NwPrENwjSsfO"
      },
      "execution_count": 15,
      "outputs": []
    },
    {
      "cell_type": "code",
      "source": [
        "eng_texts = \"Tom isn't not talking to me\"\n",
        "eng_texts_2 = \"go\""
      ],
      "metadata": {
        "id": "Jc9RrE3D6mL3"
      },
      "execution_count": 16,
      "outputs": []
    },
    {
      "cell_type": "code",
      "source": [
        "eng_texts_2 = eng_texts_2.lower()\n",
        "\n",
        "eng_texts_2 = expand_contras(eng_texts_2)\n",
        "print(eng_texts_2)"
      ],
      "metadata": {
        "colab": {
          "base_uri": "https://localhost:8080/"
        },
        "id": "raOpV-N58uiI",
        "outputId": "c78800c8-31d7-4a8d-fb85-c44b7e0d7ffc"
      },
      "execution_count": 17,
      "outputs": [
        {
          "output_type": "stream",
          "name": "stdout",
          "text": [
            "go\n"
          ]
        }
      ]
    },
    {
      "cell_type": "code",
      "source": [
        "eng_texts_2 = eng_texts_2.split()\n",
        "print(eng_texts_2)"
      ],
      "metadata": {
        "colab": {
          "base_uri": "https://localhost:8080/"
        },
        "id": "C0sSXY_aJHF7",
        "outputId": "4747ed1f-4ae6-4159-d527-a97c4c4e1d5a"
      },
      "execution_count": 18,
      "outputs": [
        {
          "output_type": "stream",
          "name": "stdout",
          "text": [
            "['go']\n"
          ]
        }
      ]
    },
    {
      "cell_type": "code",
      "source": [
        "# eng_texts =np.array(eng_texts)\n",
        "# print(eng_texts)"
      ],
      "metadata": {
        "id": "Q7R6WcZBGo2g"
      },
      "execution_count": 19,
      "outputs": []
    },
    {
      "cell_type": "code",
      "source": [
        "# loading tokenizer\n",
        "with open('/content/drive/MyDrive/deep_learning_projects/Neural_machine_transaltion/attention/working_dir_data/eng_tokenizer.pkl', 'rb') as f:\n",
        "    eng_tokenizer = pickle.load(f)"
      ],
      "metadata": {
        "id": "sVqpZSwD-aq4"
      },
      "execution_count": 20,
      "outputs": []
    },
    {
      "cell_type": "code",
      "source": [
        "len(eng_tokenizer.word_counts)"
      ],
      "metadata": {
        "colab": {
          "base_uri": "https://localhost:8080/"
        },
        "id": "kb9a13XiExx_",
        "outputId": "c11039fc-6f1a-4997-e7b9-99bad70a0759"
      },
      "execution_count": 21,
      "outputs": [
        {
          "output_type": "execute_result",
          "data": {
            "text/plain": [
              "5835"
            ]
          },
          "metadata": {},
          "execution_count": 21
        }
      ]
    },
    {
      "cell_type": "code",
      "source": [
        "input_sequence = eng_tokenizer.texts_to_sequences(eng_texts_2)\n",
        "input_sequence"
      ],
      "metadata": {
        "colab": {
          "base_uri": "https://localhost:8080/"
        },
        "id": "3vRGf4QCDu4M",
        "outputId": "9e0baec7-e7e3-4b2d-cd2c-7cda65432768"
      },
      "execution_count": 22,
      "outputs": [
        {
          "output_type": "execute_result",
          "data": {
            "text/plain": [
              "[[37]]"
            ]
          },
          "metadata": {},
          "execution_count": 22
        }
      ]
    },
    {
      "cell_type": "code",
      "source": [
        "from tensorflow.keras.preprocessing.sequence import pad_sequences\n",
        "eng_padded = pad_sequences(input_sequence, maxlen=34\n",
        "                           , padding='post')"
      ],
      "metadata": {
        "id": "PRImviGEF9TD"
      },
      "execution_count": 23,
      "outputs": []
    },
    {
      "cell_type": "code",
      "source": [
        "eng_padded"
      ],
      "metadata": {
        "colab": {
          "base_uri": "https://localhost:8080/"
        },
        "id": "db6f46szGKbs",
        "outputId": "649f93a5-a5de-494a-beac-477c1e6860cf"
      },
      "execution_count": 24,
      "outputs": [
        {
          "output_type": "execute_result",
          "data": {
            "text/plain": [
              "array([[37,  0,  0,  0,  0,  0,  0,  0,  0,  0,  0,  0,  0,  0,  0,  0,\n",
              "         0,  0,  0,  0,  0,  0,  0,  0,  0,  0,  0,  0,  0,  0,  0,  0,\n",
              "         0,  0]], dtype=int32)"
            ]
          },
          "metadata": {},
          "execution_count": 24
        }
      ]
    },
    {
      "cell_type": "code",
      "source": [
        "eng_padded = np.array(eng_padded)\n",
        "eng_padded"
      ],
      "metadata": {
        "colab": {
          "base_uri": "https://localhost:8080/"
        },
        "id": "Hsn1irNFLYmx",
        "outputId": "00c406ae-c1f9-4597-b28d-1f4080c9c099"
      },
      "execution_count": 25,
      "outputs": [
        {
          "output_type": "execute_result",
          "data": {
            "text/plain": [
              "array([[37,  0,  0,  0,  0,  0,  0,  0,  0,  0,  0,  0,  0,  0,  0,  0,\n",
              "         0,  0,  0,  0,  0,  0,  0,  0,  0,  0,  0,  0,  0,  0,  0,  0,\n",
              "         0,  0]], dtype=int32)"
            ]
          },
          "metadata": {},
          "execution_count": 25
        }
      ]
    },
    {
      "cell_type": "code",
      "source": [
        "get_english_sentence([37,  0,  0,  0,  0,  0,  0,  0,  0,  0,  0,  0,  0,  0,  0,  0,\n",
        "         0,  0,  0,  0,  0,  0,  0,  0,  0,  0,  0,  0,  0,  0,  0,  0,\n",
        "         0,  0])"
      ],
      "metadata": {
        "colab": {
          "base_uri": "https://localhost:8080/",
          "height": 35
        },
        "id": "3Be-BPjOX7UQ",
        "outputId": "a59f90ee-aff8-4bfb-8f3d-557d7a86e434"
      },
      "execution_count": 26,
      "outputs": [
        {
          "output_type": "execute_result",
          "data": {
            "text/plain": [
              "'go '"
            ],
            "application/vnd.google.colaboratory.intrinsic+json": {
              "type": "string"
            }
          },
          "metadata": {},
          "execution_count": 26
        }
      ]
    },
    {
      "cell_type": "code",
      "source": [
        "get_predicted_sentence(eng_padded)"
      ],
      "metadata": {
        "colab": {
          "base_uri": "https://localhost:8080/",
          "height": 87
        },
        "id": "tsCK5VnC69WF",
        "outputId": "ed2aa175-33e2-4b85-99f3-0c66c4cf3c8e"
      },
      "execution_count": 27,
      "outputs": [
        {
          "output_type": "stream",
          "name": "stdout",
          "text": [
            "1/1 [==============================] - 4s 4s/step\n",
            "1/1 [==============================] - 1s 759ms/step\n",
            "1/1 [==============================] - 0s 22ms/step\n"
          ]
        },
        {
          "output_type": "execute_result",
          "data": {
            "text/plain": [
              "' जा eos'"
            ],
            "application/vnd.google.colaboratory.intrinsic+json": {
              "type": "string"
            }
          },
          "metadata": {},
          "execution_count": 27
        }
      ]
    },
    {
      "cell_type": "code",
      "source": [
        "\n",
        "def english_preprocessing(data, col):\n",
        "    data[col] = data[col].astype(str)\n",
        "    data[col] = data[col].apply(lambda x: x.lower())\n",
        "    data[col] = data[col].apply(lambda x: re.sub(\"[^A-Za-z\\s]\",\"\",x))   # all non-alphabetic characters\n",
        "\n",
        "    data[col] = data[col].apply(lambda x: x.replace(\"\\s+\",\" \"))  # adjust multiple spaces\n",
        "    data[col] = data[col].apply(lambda x: \" \".join([word for word in x.split()]))\n",
        "\n",
        "    return data"
      ],
      "metadata": {
        "id": "WHjnsjk1q8C7"
      },
      "execution_count": 38,
      "outputs": []
    },
    {
      "cell_type": "code",
      "source": [
        "# eng_texts = \"Tom isn't not talking to me\"\n",
        "# eng_texts_2 = \"Tom isn't     talking to me\"     # \"go\"\n",
        "\n",
        "eng_texts_2 = \" I am the lion\"\n",
        "\n",
        "df = pd.DataFrame()\n",
        "\n",
        "df[\"English\"] = [ eng_texts_2 ]\n",
        "print(df)\n",
        "\n",
        "df = english_preprocessing(df, \"English\")\n",
        "\n",
        "## Unveiling the contractions in English\n",
        "df.English = df.English.apply(lambda x: expand_contras(x))\n",
        "\n",
        "eng_texts_2 = df.English.to_list()\n",
        "print(eng_texts_2)\n",
        "\n",
        "eng_encoded = eng_tokenizer.texts_to_sequences(eng_texts_2)\n",
        "print(eng_encoded)\n",
        "\n",
        "\n",
        "eng_padded = pad_sequences(eng_encoded, maxlen=34\n",
        "                           , padding='post')\n",
        "print(eng_padded)\n",
        "\n",
        "a = get_predicted_sentence(eng_padded)\n",
        "\n",
        "\n",
        "# eng_texts_2 = eng_texts_2.lower()\n",
        "\n",
        "# eng_texts_2 = expand_contras(eng_texts_2)\n",
        "# print(eng_texts_2)"
      ],
      "metadata": {
        "colab": {
          "base_uri": "https://localhost:8080/"
        },
        "id": "PB4lU9_cTeIB",
        "outputId": "a9d23a61-6473-4e29-ff79-303b6514c4e3"
      },
      "execution_count": 56,
      "outputs": [
        {
          "output_type": "stream",
          "name": "stdout",
          "text": [
            "          English\n",
            "0   I am the lion\n",
            "['i am the lion']\n",
            "[[2, 140, 4, 1811]]\n",
            "[[   2  140    4 1811    0    0    0    0    0    0    0    0    0    0\n",
            "     0    0    0    0    0    0    0    0    0    0    0    0    0    0\n",
            "     0    0    0    0    0    0]]\n",
            "1/1 [==============================] - 0s 29ms/step\n",
            "1/1 [==============================] - 0s 38ms/step\n",
            "1/1 [==============================] - 0s 36ms/step\n",
            "1/1 [==============================] - 0s 77ms/step\n",
            "1/1 [==============================] - 0s 68ms/step\n"
          ]
        }
      ]
    },
    {
      "cell_type": "code",
      "source": [
        "print(a)"
      ],
      "metadata": {
        "colab": {
          "base_uri": "https://localhost:8080/"
        },
        "id": "A6u26kMnn_Tv",
        "outputId": "4c19f74e-d14a-4390-db3b-048488b81f6d"
      },
      "execution_count": 57,
      "outputs": [
        {
          "output_type": "stream",
          "name": "stdout",
          "text": [
            " मी सिंह आहे eos\n"
          ]
        }
      ]
    },
    {
      "cell_type": "code",
      "source": [],
      "metadata": {
        "id": "VWcXQBbtvyPJ"
      },
      "execution_count": null,
      "outputs": []
    }
  ]
}